{
 "cells": [
  {
   "cell_type": "code",
   "execution_count": 8,
   "id": "679181a1",
   "metadata": {},
   "outputs": [],
   "source": [
    "import qrcode as qr"
   ]
  },
  {
   "cell_type": "code",
   "execution_count": 9,
   "id": "38a65de9",
   "metadata": {},
   "outputs": [],
   "source": [
    "img=qr.make(\"https://www.phonepe.com/\")\n",
    "img.save(\"PhonePe.png\")"
   ]
  },
  {
   "cell_type": "code",
   "execution_count": 14,
   "id": "b4326d13",
   "metadata": {},
   "outputs": [],
   "source": [
    "import PIL"
   ]
  },
  {
   "cell_type": "code",
   "execution_count": 16,
   "id": "47108bf2",
   "metadata": {},
   "outputs": [],
   "source": [
    "from PIL import Image"
   ]
  },
  {
   "cell_type": "code",
   "execution_count": 18,
   "id": "4b1d17bd",
   "metadata": {},
   "outputs": [],
   "source": [
    "qr=qrcode.QRCode(version=1, error_correction=qrcode.constants.ERROR_CORRECT_H, box_size=10,border=4)\n",
    "qr.add_data(\"https://www.phonepe.com/\")\n",
    "qr.make(fit=True)\n",
    "img=qr.make_image(fill_color=\"blue\",back_color=\"yellow\")\n",
    "img.save(\"PhonePe_web.png\")\n"
   ]
  }
 ],
 "metadata": {
  "kernelspec": {
   "display_name": "Python 3 (ipykernel)",
   "language": "python",
   "name": "python3"
  },
  "language_info": {
   "codemirror_mode": {
    "name": "ipython",
    "version": 3
   },
   "file_extension": ".py",
   "mimetype": "text/x-python",
   "name": "python",
   "nbconvert_exporter": "python",
   "pygments_lexer": "ipython3",
   "version": "3.10.9"
  }
 },
 "nbformat": 4,
 "nbformat_minor": 5
}
